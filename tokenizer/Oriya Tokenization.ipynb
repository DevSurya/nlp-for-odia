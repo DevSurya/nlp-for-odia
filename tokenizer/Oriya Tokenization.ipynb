{
 "cells": [
  {
   "cell_type": "code",
   "execution_count": 1,
   "metadata": {},
   "outputs": [],
   "source": [
    "import sentencepiece as spm\n",
    "import pickle\n",
    "import pathlib"
   ]
  },
  {
   "cell_type": "code",
   "execution_count": 2,
   "metadata": {},
   "outputs": [],
   "source": [
    "path = pathlib.Path('/home/gaurav/PycharmProjects/nlp-for-oriya/language-model')"
   ]
  },
  {
   "cell_type": "code",
   "execution_count": 3,
   "metadata": {},
   "outputs": [],
   "source": [
    "p = path.glob('OriyaWikipediaArticles/*')\n",
    "files = [x for x in p if x.is_file()]"
   ]
  },
  {
   "cell_type": "code",
   "execution_count": 4,
   "metadata": {},
   "outputs": [
    {
     "data": {
      "text/plain": [
       "17781"
      ]
     },
     "execution_count": 4,
     "metadata": {},
     "output_type": "execute_result"
    }
   ],
   "source": [
    "len(files)"
   ]
  },
  {
   "cell_type": "code",
   "execution_count": 5,
   "metadata": {},
   "outputs": [],
   "source": [
    "files = [str(file) for file in files]"
   ]
  },
  {
   "cell_type": "code",
   "execution_count": 6,
   "metadata": {},
   "outputs": [],
   "source": [
    "flist = ','.join(files)"
   ]
  },
  {
   "cell_type": "code",
   "execution_count": 8,
   "metadata": {},
   "outputs": [
    {
     "data": {
      "text/plain": [
       "True"
      ]
     },
     "execution_count": 8,
     "metadata": {},
     "output_type": "execute_result"
    }
   ],
   "source": [
    "spm.SentencePieceTrainer.Train(f'--input={flist} --model_prefix=oriya_lm --vocab_size=15000')"
   ]
  },
  {
   "cell_type": "code",
   "execution_count": 9,
   "metadata": {},
   "outputs": [],
   "source": [
    "with open(path/'OriyaWikipediaArticles/1781.pkl', 'rb') as f:\n",
    "    text = pickle.load(f)"
   ]
  },
  {
   "cell_type": "code",
   "execution_count": 10,
   "metadata": {},
   "outputs": [
    {
     "data": {
      "text/plain": [
       "'ସାହାଯ \\nଶ୍ରୀ ସତ୍ୟ ସାଇ ବାବା, ଶ୍ରୀ ସତ୍ୟ ସାଇ ବାବା ୨୩ ନଭେମ୍ବର ୧୯୨୬ ତାରିଖରେ ଆନ୍ଧ୍ର ପ୍ରଦେଶ ରାଜ୍ୟର ପୁଟ୍ଟପର୍ତି ଗ୍ରାମରେ ଜନ୍ମ ନେଇଥିଲେ । ବିଶ୍ୱ ସାରା ତାଙ୍କର ବହୁତ ଭକ୍ତ ଅଛନ୍ତି । ଭକ୍ତମାନେ ବାବାଙ୍କୁ ଶ୍ରୀ ସିରଡ଼ି ସାଈ ବାବାଙ୍କ ଅବତାର ମାନନ୍ତି । ବାବା ୨୪ ଅପ୍ରେଲ ୨୦୧୧ ତାରିଖରେ ଦେହତ୍ୟାଗ କରିଥିଲେ ।\\nଆନ୍ଧ୍ରପ୍ରଦେଶର ଅନନ୍ତପୁର ଜିଲ୍ଲାର ପୁଟ୍ଟପର୍ତୀ ଗ୍ରାମରେ ଏକ ସାଧାରଣ ପରିବାରରେ ଜନ୍ମ ହେଇଥିଲେ I ସେ ୨୦ ଅକ୍ଟୋବର ୧୯୪୦ରେ ୧୪ ବର୍ଷ ବୟସରେ ନିଜକୁ ଶିରିଡି ସାଇବାବାଂକ ଅବତାର ବୋଲି କହିଥିଲେ I ଯେଉଁ ବ୍ୟକ୍ତି ତାଙ୍କ ସାମନାରେ ଶିରିଡି ସାଇ ବାବାଂକ ବିଷୟରେ କଥାବାର୍ତା ହେଉଥିଲେ ତାଙ୍କୁ ନିଜର ପୁର୍ବ ଶରୀର ବୋଲି କହୁଥିଲେ I\\n'"
      ]
     },
     "execution_count": 10,
     "metadata": {},
     "output_type": "execute_result"
    }
   ],
   "source": [
    "text"
   ]
  },
  {
   "cell_type": "code",
   "execution_count": 11,
   "metadata": {},
   "outputs": [],
   "source": [
    "sp = spm.SentencePieceProcessor()"
   ]
  },
  {
   "cell_type": "code",
   "execution_count": 12,
   "metadata": {},
   "outputs": [
    {
     "data": {
      "text/plain": [
       "True"
      ]
     },
     "execution_count": 12,
     "metadata": {},
     "output_type": "execute_result"
    }
   ],
   "source": [
    "sp.Load(\"oriya_lm.model\")"
   ]
  },
  {
   "cell_type": "code",
   "execution_count": 13,
   "metadata": {},
   "outputs": [
    {
     "data": {
      "text/plain": [
       "['▁ସାହା',\n",
       " 'ଯ',\n",
       " '▁ଶ୍ରୀ',\n",
       " '▁ସତ୍ୟ',\n",
       " '▁ସାଇ',\n",
       " '▁ବାବା',\n",
       " ',',\n",
       " '▁ଶ୍ରୀ',\n",
       " '▁ସତ୍ୟ',\n",
       " '▁ସାଇ',\n",
       " '▁ବାବା',\n",
       " '▁୨୩',\n",
       " '▁ନଭେମ୍ବର',\n",
       " '▁୧୯୨୬',\n",
       " '▁ତାରିଖରେ',\n",
       " '▁ଆନ୍ଧ୍ର',\n",
       " '▁ପ୍ରଦେଶ',\n",
       " '▁ରାଜ୍ୟର',\n",
       " '▁ପୁ',\n",
       " 'ଟ୍ଟ',\n",
       " 'ପର୍',\n",
       " 'ତି',\n",
       " '▁ଗ୍ରାମ',\n",
       " 'ରେ',\n",
       " '▁ଜନ୍ମ',\n",
       " '▁ନେଇଥିଲେ',\n",
       " '▁।',\n",
       " '▁ବିଶ୍ୱ',\n",
       " '▁ସାରା',\n",
       " '▁ତାଙ୍କର',\n",
       " '▁ବହୁତ',\n",
       " '▁ଭକ୍ତ',\n",
       " '▁ଅଛନ୍ତି',\n",
       " '▁।',\n",
       " '▁ଭକ୍ତ',\n",
       " 'ମାନେ',\n",
       " '▁ବାବା',\n",
       " 'ଙ୍କୁ',\n",
       " '▁ଶ୍ରୀ',\n",
       " '▁ସି',\n",
       " 'ର',\n",
       " 'ଡ଼ି',\n",
       " '▁ସା',\n",
       " 'ଈ',\n",
       " '▁ବାବା',\n",
       " 'ଙ୍କ',\n",
       " '▁ଅବତାର',\n",
       " '▁ମାନନ୍ତି',\n",
       " '▁।',\n",
       " '▁ବାବା',\n",
       " '▁୨୪',\n",
       " '▁ଅପ୍ରେଲ',\n",
       " '▁୨୦୧୧',\n",
       " '▁ତାରିଖରେ',\n",
       " '▁ଦେହତ୍ୟାଗ',\n",
       " '▁କରିଥିଲେ',\n",
       " '▁।',\n",
       " '▁ଆନ୍ଧ୍ରପ୍ରଦେଶର',\n",
       " '▁ଅନନ୍ତ',\n",
       " 'ପୁର',\n",
       " '▁ଜିଲ୍ଲାର',\n",
       " '▁ପୁ',\n",
       " 'ଟ୍ଟ',\n",
       " 'ପର୍',\n",
       " 'ତୀ',\n",
       " '▁ଗ୍ରାମ',\n",
       " 'ରେ',\n",
       " '▁ଏକ',\n",
       " '▁ସାଧାରଣ',\n",
       " '▁ପରିବାରରେ',\n",
       " '▁ଜନ୍ମ',\n",
       " '▁ହେଇଥିଲେ',\n",
       " '▁I',\n",
       " '▁ସେ',\n",
       " '▁୨୦',\n",
       " '▁ଅକ୍ଟୋବର',\n",
       " '▁୧୯୪୦',\n",
       " 'ରେ',\n",
       " '▁୧୪',\n",
       " '▁ବର୍ଷ',\n",
       " '▁ବୟସରେ',\n",
       " '▁ନିଜ',\n",
       " 'କୁ',\n",
       " '▁ଶିରିଡି',\n",
       " '▁ସାଇ',\n",
       " 'ବାବା',\n",
       " 'ଂକ',\n",
       " '▁ଅବତାର',\n",
       " '▁ବୋଲି',\n",
       " '▁କହିଥିଲେ',\n",
       " '▁I',\n",
       " '▁ଯେଉଁ',\n",
       " '▁ବ୍ୟକ୍ତି',\n",
       " '▁ତାଙ୍କ',\n",
       " '▁ସାମନା',\n",
       " 'ରେ',\n",
       " '▁ଶିରିଡି',\n",
       " '▁ସାଇ',\n",
       " '▁ବାବା',\n",
       " 'ଂକ',\n",
       " '▁ବିଷୟରେ',\n",
       " '▁କଥା',\n",
       " 'ବାର',\n",
       " '୍',\n",
       " 'ତା',\n",
       " '▁ହେଉଥିଲେ',\n",
       " '▁ତାଙ୍କୁ',\n",
       " '▁ନିଜର',\n",
       " '▁ପୁର୍ବ',\n",
       " '▁ଶରୀର',\n",
       " '▁ବୋଲି',\n",
       " '▁କହୁଥିଲେ',\n",
       " '▁I']"
      ]
     },
     "execution_count": 13,
     "metadata": {},
     "output_type": "execute_result"
    }
   ],
   "source": [
    "sp.EncodeAsPieces(text)"
   ]
  },
  {
   "cell_type": "code",
   "execution_count": null,
   "metadata": {},
   "outputs": [],
   "source": []
  }
 ],
 "metadata": {
  "kernelspec": {
   "display_name": "Python 3",
   "language": "python",
   "name": "python3"
  },
  "language_info": {
   "codemirror_mode": {
    "name": "ipython",
    "version": 3
   },
   "file_extension": ".py",
   "mimetype": "text/x-python",
   "name": "python",
   "nbconvert_exporter": "python",
   "pygments_lexer": "ipython3",
   "version": "3.6.7"
  }
 },
 "nbformat": 4,
 "nbformat_minor": 2
}
