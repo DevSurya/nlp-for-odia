{
 "cells": [
  {
   "cell_type": "code",
   "execution_count": 1,
   "metadata": {},
   "outputs": [],
   "source": [
    "from fastai.text import *\n",
    "import numpy as np\n",
    "from sklearn.model_selection import train_test_split\n",
    "import pickle\n",
    "import sentencepiece as spm\n",
    "import re\n",
    "import pdb"
   ]
  },
  {
   "cell_type": "code",
   "execution_count": 2,
   "metadata": {},
   "outputs": [
    {
     "data": {
      "text/plain": [
       "('1.0.40', '1.0.0')"
      ]
     },
     "execution_count": 2,
     "metadata": {},
     "output_type": "execute_result"
    }
   ],
   "source": [
    "import fastai, torch\n",
    "fastai.__version__ , torch.__version__"
   ]
  },
  {
   "cell_type": "code",
   "execution_count": 3,
   "metadata": {},
   "outputs": [],
   "source": [
    "torch.cuda.set_device(0)"
   ]
  },
  {
   "cell_type": "code",
   "execution_count": 4,
   "metadata": {},
   "outputs": [
    {
     "name": "stdout",
     "output_type": "stream",
     "text": [
      "/home/gaurav/PycharmProjects/nlp-for-oriya/classification\r\n"
     ]
    }
   ],
   "source": [
    "!pwd"
   ]
  },
  {
   "cell_type": "code",
   "execution_count": 5,
   "metadata": {},
   "outputs": [],
   "source": [
    "path = Path('/home/gaurav/PycharmProjects/nlp-for-oriya/classification')"
   ]
  },
  {
   "cell_type": "code",
   "execution_count": 6,
   "metadata": {},
   "outputs": [
    {
     "name": "stdout",
     "output_type": "stream",
     "text": [
      "Odia_Classification_Model.ipynb  Odia_News_Classification.csv\r\n"
     ]
    }
   ],
   "source": [
    "!ls"
   ]
  },
  {
   "cell_type": "code",
   "execution_count": 7,
   "metadata": {},
   "outputs": [
    {
     "data": {
      "text/html": [
       "<div>\n",
       "<style scoped>\n",
       "    .dataframe tbody tr th:only-of-type {\n",
       "        vertical-align: middle;\n",
       "    }\n",
       "\n",
       "    .dataframe tbody tr th {\n",
       "        vertical-align: top;\n",
       "    }\n",
       "\n",
       "    .dataframe thead th {\n",
       "        text-align: right;\n",
       "    }\n",
       "</style>\n",
       "<table border=\"1\" class=\"dataframe\">\n",
       "  <thead>\n",
       "    <tr style=\"text-align: right;\">\n",
       "      <th></th>\n",
       "      <th>headings</th>\n",
       "      <th>label</th>\n",
       "    </tr>\n",
       "  </thead>\n",
       "  <tbody>\n",
       "    <tr>\n",
       "      <th>18996</th>\n",
       "      <td>ବିସିସିଆଇର ନିଷ୍ପତ୍ତି : ଆଇପିଏଲ-୨୦୧୯ର ଉଦଘାଟନୀ ସମ...</td>\n",
       "      <td>sports</td>\n",
       "    </tr>\n",
       "    <tr>\n",
       "      <th>18997</th>\n",
       "      <td>ଅମୃତଜୟଙ୍କୁ ଦ୍ୱିମୁକୁଟ</td>\n",
       "      <td>sports</td>\n",
       "    </tr>\n",
       "    <tr>\n",
       "      <th>18998</th>\n",
       "      <td>ଶେଷ ସର୍ଦାରଙ୍କ ପ୍ରଥମ ଖୁଲାସା: ଜନ୍‌ ଦେଇଥିଲେ ଅସମ୍...</td>\n",
       "      <td>sports</td>\n",
       "    </tr>\n",
       "    <tr>\n",
       "      <th>18999</th>\n",
       "      <td>ସହିଦ ସ୍ପୋର୍ଟିଂ-ଜୁଭେନାଇଲ୍‌ ଫାଇନାଲ୍‌ ଆଜି</td>\n",
       "      <td>sports</td>\n",
       "    </tr>\n",
       "    <tr>\n",
       "      <th>19000</th>\n",
       "      <td>ମେସି ପୁଣି ଫିକା : ଆର୍ଜେଣ୍ଟିନାର ଶୋଚନୀୟ ପରାଜୟ</td>\n",
       "      <td>sports</td>\n",
       "    </tr>\n",
       "  </tbody>\n",
       "</table>\n",
       "</div>"
      ],
      "text/plain": [
       "                                                headings   label\n",
       "18996   ବିସିସିଆଇର ନିଷ୍ପତ୍ତି : ଆଇପିଏଲ-୨୦୧୯ର ଉଦଘାଟନୀ ସମ...  sports\n",
       "18997                              ଅମୃତଜୟଙ୍କୁ ଦ୍ୱିମୁକୁଟ   sports\n",
       "18998   ଶେଷ ସର୍ଦାରଙ୍କ ପ୍ରଥମ ଖୁଲାସା: ଜନ୍‌ ଦେଇଥିଲେ ଅସମ୍...  sports\n",
       "18999            ସହିଦ ସ୍ପୋର୍ଟିଂ-ଜୁଭେନାଇଲ୍‌ ଫାଇନାଲ୍‌ ଆଜି   sports\n",
       "19000        ମେସି ପୁଣି ଫିକା : ଆର୍ଜେଣ୍ଟିନାର ଶୋଚନୀୟ ପରାଜୟ   sports"
      ]
     },
     "execution_count": 7,
     "metadata": {},
     "output_type": "execute_result"
    }
   ],
   "source": [
    "df = pd.read_csv(path/'Odia_News_Classification.csv')\n",
    "df.tail()"
   ]
  },
  {
   "cell_type": "code",
   "execution_count": 8,
   "metadata": {},
   "outputs": [
    {
     "data": {
      "text/plain": [
       "array(['entertainment', 'business', 'sports'], dtype=object)"
      ]
     },
     "execution_count": 8,
     "metadata": {},
     "output_type": "execute_result"
    }
   ],
   "source": [
    "df['label'].unique()"
   ]
  },
  {
   "cell_type": "code",
   "execution_count": 9,
   "metadata": {},
   "outputs": [
    {
     "name": "stdout",
     "output_type": "stream",
     "text": [
      "Entertainment 4572\n",
      "Business 5779\n",
      "Sports 8650\n"
     ]
    }
   ],
   "source": [
    "print('Entertainment', (df['label'] == 'entertainment').sum())\n",
    "print('Business', (df['label'] == 'business').sum())\n",
    "print('Sports', (df['label'] == 'sports').sum())"
   ]
  },
  {
   "cell_type": "code",
   "execution_count": 10,
   "metadata": {},
   "outputs": [
    {
     "data": {
      "text/plain": [
       "' ଚାରିବର୍ଷ ପରେ ରିତିକ୍\\u200cଙ୍କ ସହ କାଟ୍ରିନା କରିବେ ବ୍ୟାଙ୍ଗ୍\\u200c… '"
      ]
     },
     "execution_count": 10,
     "metadata": {},
     "output_type": "execute_result"
    }
   ],
   "source": [
    "df['headings'][0]"
   ]
  },
  {
   "cell_type": "code",
   "execution_count": 11,
   "metadata": {},
   "outputs": [
    {
     "data": {
      "text/plain": [
       "(19001, 2)"
      ]
     },
     "execution_count": 11,
     "metadata": {},
     "output_type": "execute_result"
    }
   ],
   "source": [
    "df.shape"
   ]
  },
  {
   "cell_type": "code",
   "execution_count": 13,
   "metadata": {},
   "outputs": [
    {
     "data": {
      "text/plain": [
       "(0, 2)"
      ]
     },
     "execution_count": 13,
     "metadata": {},
     "output_type": "execute_result"
    }
   ],
   "source": [
    "df[df['headings'].isnull()].shape"
   ]
  },
  {
   "cell_type": "code",
   "execution_count": 14,
   "metadata": {},
   "outputs": [],
   "source": [
    "label_cols = list(range(1,df.shape[1]))"
   ]
  },
  {
   "cell_type": "code",
   "execution_count": 15,
   "metadata": {},
   "outputs": [
    {
     "name": "stdout",
     "output_type": "stream",
     "text": [
      "[1]\n"
     ]
    }
   ],
   "source": [
    "print(label_cols)"
   ]
  },
  {
   "cell_type": "code",
   "execution_count": 16,
   "metadata": {},
   "outputs": [],
   "source": [
    "id_to_col = list(df.columns)"
   ]
  },
  {
   "cell_type": "code",
   "execution_count": 17,
   "metadata": {},
   "outputs": [],
   "source": [
    "col_to_id = {}\n",
    "for i, col in enumerate(id_to_col):\n",
    "    col_to_id[col] = i"
   ]
  },
  {
   "cell_type": "code",
   "execution_count": 18,
   "metadata": {},
   "outputs": [],
   "source": [
    "class OriyaTokenizer(BaseTokenizer):\n",
    "    def __init__(self, lang:str):\n",
    "        self.lang = lang\n",
    "        self.sp = spm.SentencePieceProcessor()\n",
    "        self.sp.Load(str(path/\"../tokenizer/oriya_lm.model\"))\n",
    "        \n",
    "    def tokenizer(self, t:str) -> List[str]:\n",
    "        return self.sp.EncodeAsPieces(t)"
   ]
  },
  {
   "cell_type": "code",
   "execution_count": 19,
   "metadata": {},
   "outputs": [],
   "source": [
    "sp = spm.SentencePieceProcessor()\n",
    "sp.Load(str(path/\"../tokenizer/oriya_lm.model\"))\n",
    "itos = [sp.IdToPiece(int(i)) for i in range(15000)]"
   ]
  },
  {
   "cell_type": "code",
   "execution_count": 20,
   "metadata": {},
   "outputs": [],
   "source": [
    "# 15,000 is the vocab size that we chose in sentencepiece\n",
    "oriya_vocab = Vocab(itos)"
   ]
  },
  {
   "cell_type": "code",
   "execution_count": 21,
   "metadata": {},
   "outputs": [],
   "source": [
    "tokenizer = Tokenizer(tok_func=OriyaTokenizer, lang='or')"
   ]
  },
  {
   "cell_type": "code",
   "execution_count": 23,
   "metadata": {},
   "outputs": [
    {
     "data": {
      "text/plain": [
       "['xxunk', 'xxpad', 'xxbos', 'xxfld', 'xxmaj', 'xxup', 'xxrep', 'xxwrep']"
      ]
     },
     "execution_count": 23,
     "metadata": {},
     "output_type": "execute_result"
    }
   ],
   "source": [
    "tokenizer.special_cases"
   ]
  },
  {
   "cell_type": "code",
   "execution_count": 24,
   "metadata": {},
   "outputs": [],
   "source": [
    "data_lm = TextDataBunch.from_csv(path=path, csv_name='Odia_News_Classification.csv', text_cols=[0], label_cols=label_cols, tokenizer=tokenizer, vocab=oriya_vocab)"
   ]
  },
  {
   "cell_type": "code",
   "execution_count": 25,
   "metadata": {},
   "outputs": [],
   "source": [
    "data_lm.save()"
   ]
  },
  {
   "cell_type": "code",
   "execution_count": 26,
   "metadata": {},
   "outputs": [],
   "source": [
    "bs=48"
   ]
  },
  {
   "cell_type": "code",
   "execution_count": 27,
   "metadata": {},
   "outputs": [],
   "source": [
    "data_lm = TextLMDataBunch.load(path, 'tmp', bs=bs)"
   ]
  },
  {
   "cell_type": "code",
   "execution_count": 28,
   "metadata": {},
   "outputs": [
    {
     "data": {
      "text/html": [
       "<table>  <col width='5%'>  <col width='95%'>  <tr>\n",
       "    <th>idx</th>\n",
       "    <th>text</th>\n",
       "  </tr>\n",
       "  <tr>\n",
       "    <th>0</th>\n",
       "    <th>▁x x b os ▁ଫର୍ମ କୁ ▁ଫେରି ଲା ▁ଅଷ୍ଟ୍ରେଲିଆ : ▁୪ର୍ଥ ▁ଓ ୍ <unk> ିକ େଟ୍ ▁ ରେ ▁୩୦ ୮ ▁ ର ନ୍ ▁ଭାଗ ି ଦାର ୀ ▁ହୋଇ ▁ବର୍ ନ୍ସ - ହେ ଡ ▁କଲେ ▁ରେକର୍ଡ ▁x x b os ▁ବଜାର ରେ ▁ଇଣ୍ଟେ କ୍ସ ର ▁ଇ ଏଲ ଓ ୍ <unk> ାଇ ଟି ▁ଇ - ୬ ▁x x b os ▁ବିବାହ ର ▁ନିମନ୍ତ୍ରଣ ▁ପତ୍ର ▁ପୋଷ୍ଟ ▁କରିବାର ▁ଦିନ କ ▁ପରେ ▁ରାକ୍ଷୀ ଙ୍କ ...</th>\n",
       "  </tr>\n",
       "  <tr>\n",
       "    <th>1</th>\n",
       "    <th>▁ଆ ଫ େ ଆର ▁ବିଷୟରେ ▁ମାଆ ▁ଯାହା ▁କହିଲେ ▁ , ଆପଣ ▁ବି ▁ଶୁଣି ▁ଚମକ ି ... ▁x x b os ▁ଚତୁର୍ଥ ▁ଦିନିକିଆ ▁ଆଜି ▁x x b os ▁ନବ ବିବାହ ିତ ▁ପ୍ରିୟଙ୍କା ▁ଚୋପ୍ରା ▁ଓ ▁ନି କ୍ ▁ଜୋନସ ଙ୍କର ▁ସଂପତ୍ତି ▁କେତେ ... ▁x x b os ▁ମହିଳାଙ୍କ ▁ସୁରକ୍ଷା ▁ପାଇଁ ▁“ ଆଇ ଓ ୍ <unk> ା ଚ୍ ▁ ରେ ଲ ୱେ ” ▁ଆପ ▁x x b os ▁ବାବା ▁ରାମ ଦେବଙ୍କ ▁ପ ତ ଞ୍ଜ</th>\n",
       "  </tr>\n",
       "  <tr>\n",
       "    <th>2</th>\n",
       "    <th>ରେ ▁ଅପ ଗ୍ ରେ ଡ ▁କରିବା ▁ପାଇଁ ▁ନୂଆ ▁ବ୍ୟବସ୍ଥା ▁ଆରମ୍ଭ ▁କଲା ▁ଭି ଭୋ ▁x x b os ▁କ୍ରିକେଟ ୍ ▁ଏକାଡେମି ▁ଖୋଲି ବେ ▁ମହେନ୍ଦ୍ର ▁ସିଂହ ▁ଧୋ ନି , ▁ଛତିଶଗଡ଼ ▁ସରକାର ଙ୍କୁ ▁ପଠାଇଲେ ▁ପ୍ରସ୍ତାବ ▁x x b os ▁ଜାତୀୟ ▁ମହିଳା ▁ହକି ▁ପାଇଁ ▁ଓଡ଼ିଶା ▁ଦଳ ▁x x b os ▁କଳିଙ୍ଗ ରେ ▁ଅଷ୍ଟ୍ରେଲ ୀୟ ▁ହକି ▁ଦମ୍ପତି , ▁ବୟସ , ▁ଦ ରିଆ , ▁ଦୂରତା ▁ନୁହେଁ ▁ପ୍ରତି ବ ଂ ଧ କ ▁x x b os ▁ମାଗଣା</th>\n",
       "  </tr>\n",
       "  <tr>\n",
       "    <th>3</th>\n",
       "    <th>ଡି ଟ୍ ▁/ ▁ଡେ ବି ଟ୍ ▁କାର୍ଡ ▁ଦ୍ୱାରା ▁କରି ▁ପାରିବେ ▁ମୋବାଇଲ ▁ରି ଚା ର୍ଜ ▁x x b os ▁ଏ ଟିଏ ମ ରେ ▁ଟଙ୍କା ▁ନାହିଁ , ▁ଏମାନଙ୍କ ▁ପାଖ ରୁ ▁ବାହାରିଲା ▁ଗଦା ▁ଗଦା ▁ନୋଟ ୍ ▁x x b os ▁ହ ଜ୍ ▁କି ଙ୍ଗ୍ ▁ସ ▁ଏକାଦଶ ର ▁ମୁଖ୍ୟ ▁ପ୍ରଶିକ୍ଷକ ▁x x b os ▁ଅମିତାଭ ▁ବଚ୍ଚନ ଙ୍କ ▁କେଉଁ ▁ସିନେମା ର ▁ତାମିଲ ▁ରି ମେ କ ରେ ▁ଅଭିନୟ ... ▁x x b os ▁ଅର୍ଜୁନ ▁ପୁରସ୍କାର ▁ପାଇଁ</th>\n",
       "  </tr>\n",
       "  <tr>\n",
       "    <th>4</th>\n",
       "    <th>▁ବଢ଼ି ଲା ▁x x b os ▁ବ୍ୟବସାୟୀ ▁ସଂଘ ▁ଧର୍ମ ଘଟ , ▁୧୫୦୦ ▁କୋଟି ର ▁ବ୍ୟବସାୟ ▁ବନ୍ଦ ▁x x b os ▁ ହୁଣ୍ଡ ାଇ ର ▁ଆଞ୍ଚଳିକ ▁ତାଲିମ ▁କେନ୍ଦ୍ର ▁ଉଦ୍ ▁ଘାଟ ିତ ▁x x b os ▁ ଖେ ଲୋ ▁ଇଣ୍ଡିଆ ରେ ▁ଡୋ ପ୍ ▁ଟେଷ୍ଟ ୍ ▁ହେବ ▁x x b os ▁ସନ୍ତୋଷ ▁ସ୍ମାରକୀ ▁କ୍ରିକେଟ ୍ ▁: ▁ମ୍ୟା ଜି କ୍ ▁ , ▁ହା ପି ▁ବିଜୟୀ ▁x x b os ▁ଡଲାର ▁ତୁଳନା ରେ ▁ଟଙ୍କା ▁ଦୁର୍ବଳ</th>\n",
       "  </tr>\n",
       "</table>\n"
      ],
      "text/plain": [
       "<IPython.core.display.HTML object>"
      ]
     },
     "metadata": {},
     "output_type": "display_data"
    }
   ],
   "source": [
    "data_lm.show_batch()"
   ]
  },
  {
   "cell_type": "code",
   "execution_count": 29,
   "metadata": {},
   "outputs": [],
   "source": [
    "learn = language_model_learner(data_lm, drop_mult=0.3)"
   ]
  },
  {
   "cell_type": "code",
   "execution_count": 30,
   "metadata": {},
   "outputs": [
    {
     "data": {
      "text/plain": [
       "LanguageLearner(data=TextLMDataBunch;\n",
       "\n",
       "Train: LabelList\n",
       "y: LMLabel (15200 items)\n",
       "[Category 0, Category 0, Category 0, Category 0, Category 0]...\n",
       "Path: /home/gaurav/PycharmProjects/nlp-for-oriya/classification\n",
       "x: LMTextList (15200 items)\n",
       "[Text ▁x x b os ▁ପୁଲ ଓ ୍ <unk> ା ମା ▁ଆକ୍ରମଣ ▁ପରେ ▁ଯଦି ▁କେହି ▁ଅହିଂସା ▁ଏବଂ ▁ଶାନ୍ତି ର ▁ଭାଷଣ ..., Text ▁x x b os ▁ବାଦ ▁ବିବାଦ ▁ଭିତରେ ▁‘ କେ ଦାର ନାଥ ୍ ▁ ’ ର ▁ସୁଟିଂ ▁ସରି ଲା ▁ , ▁ଜାଣନ୍ତ ୁ ..., Text ▁x x b os ▁ଡାକ୍ତର ଙ୍କ ▁ପାଖରେ ▁ପହଞ୍ଚିଲେ ▁ବିରାଟ ▁ଏବଂ ▁ଅନୁଷ୍କା ! ▁ଫଟୋ ▁ହେଲା ..., Text ▁x x b os ▁ବଲିଉଡ୍ ▁ ରେ ▁ଦୁଷ୍କର୍ମ ▁ହୁଏ ▁ନାହିଁ ; ▁ଯାହା ▁ବି ▁ସଂପର୍କ ▁ହୁଏ , ▁ସେସବୁ ..., Text ▁x x b os ▁ବି ଏସ୍ ▁ଏନ୍ ▁ ଏଲ୍ ▁ , ▁ଟୋ ଟର୍ ସର ▁ଯୁଗଳ ▁ବିଜୟ]...\n",
       "Path: /home/gaurav/PycharmProjects/nlp-for-oriya/classification;\n",
       "\n",
       "Valid: LabelList\n",
       "y: LMLabel (3801 items)\n",
       "[Category 0, Category 0, Category 0, Category 0, Category 0]...\n",
       "Path: /home/gaurav/PycharmProjects/nlp-for-oriya/classification\n",
       "x: LMTextList (3801 items)\n",
       "[Text ▁x x b os ▁କ୍ରିକେଟ ରେ ▁ନୂଆ ▁ରେକର୍ଡ ▁ସ୍ଥାପିତ , ▁ଦିନିକିଆ ରେ ▁ନ୍ୟୁ ଜି ଲାଣ୍ଡ ର ▁୪ ୯୦ ▁ ର ନ୍, Text ▁x x b os ▁ସାଇନା ▁ଜିତି ଲେ ▁ଇଣ୍ଡୋନେସିଆ ▁ମାଷ୍ଟର ୍ସ ▁ଟ୍ରଫି, Text ▁x x b os ▁ପି ଏନ୍ ▁ବି ▁ପକ୍ଷ ରୁ ▁ଋଣ ▁ଶିବିର , ▁ନୂଆ ▁ଶାଖା ▁ଉଦ୍ ▁ଘାଟ ିତ, Text ▁x x b os ▁ବୋ ପା ନ୍ନା - କୁ ଇ ଭା ସ୍ ▁ଶୀର୍ଷ ▁ମାନ୍ୟତା ଙ୍କୁ ▁ହରାଇ ଲେ, Text ▁x x b os ▁ଆୟକର ▁ରି ଟ ର୍ଣ୍ଣ ▁ଇ - ଫାଇ ଲି ଂ ▁ପାଇଁ ▁ଆସିଲା ▁୭ ▁ଫର୍ମ]...\n",
       "Path: /home/gaurav/PycharmProjects/nlp-for-oriya/classification;\n",
       "\n",
       "Test: None, model=SequentialRNN(\n",
       "  (0): RNNCore(\n",
       "    (encoder): Embedding(15000, 400, padding_idx=1)\n",
       "    (encoder_dp): EmbeddingDropout(\n",
       "      (emb): Embedding(15000, 400, padding_idx=1)\n",
       "    )\n",
       "    (rnns): ModuleList(\n",
       "      (0): WeightDropout(\n",
       "        (module): LSTM(400, 1150, batch_first=True)\n",
       "      )\n",
       "      (1): WeightDropout(\n",
       "        (module): LSTM(1150, 1150, batch_first=True)\n",
       "      )\n",
       "      (2): WeightDropout(\n",
       "        (module): LSTM(1150, 400, batch_first=True)\n",
       "      )\n",
       "    )\n",
       "    (input_dp): RNNDropout()\n",
       "    (hidden_dps): ModuleList(\n",
       "      (0): RNNDropout()\n",
       "      (1): RNNDropout()\n",
       "      (2): RNNDropout()\n",
       "    )\n",
       "  )\n",
       "  (1): LinearDecoder(\n",
       "    (decoder): Linear(in_features=400, out_features=15000, bias=True)\n",
       "    (output_dp): RNNDropout()\n",
       "  )\n",
       "), opt_func=functools.partial(<class 'torch.optim.adam.Adam'>, betas=(0.9, 0.99)), loss_func=<fastai.layers.FlattenedLoss object at 0x7f4d48050f28>, metrics=[<function accuracy at 0x7f4d4b620620>], true_wd=True, bn_wd=True, wd=0.01, train_bn=True, path=PosixPath('/home/gaurav/PycharmProjects/nlp-for-oriya/classification'), model_dir='models', callback_fns=[<class 'fastai.basic_train.Recorder'>], callbacks=[RNNTrainer\n",
       "learn: LanguageLearner(data=TextLMDataBunch;\n",
       "\n",
       "Train: LabelList\n",
       "y: LMLabel (15200 items)\n",
       "[Category 0, Category 0, Category 0, Category 0, Category 0]...\n",
       "Path: /home/gaurav/PycharmProjects/nlp-for-oriya/classification\n",
       "x: LMTextList (15200 items)\n",
       "[Text ▁x x b os ▁ପୁଲ ଓ ୍ <unk> ା ମା ▁ଆକ୍ରମଣ ▁ପରେ ▁ଯଦି ▁କେହି ▁ଅହିଂସା ▁ଏବଂ ▁ଶାନ୍ତି ର ▁ଭାଷଣ ..., Text ▁x x b os ▁ବାଦ ▁ବିବାଦ ▁ଭିତରେ ▁‘ କେ ଦାର ନାଥ ୍ ▁ ’ ର ▁ସୁଟିଂ ▁ସରି ଲା ▁ , ▁ଜାଣନ୍ତ ୁ ..., Text ▁x x b os ▁ଡାକ୍ତର ଙ୍କ ▁ପାଖରେ ▁ପହଞ୍ଚିଲେ ▁ବିରାଟ ▁ଏବଂ ▁ଅନୁଷ୍କା ! ▁ଫଟୋ ▁ହେଲା ..., Text ▁x x b os ▁ବଲିଉଡ୍ ▁ ରେ ▁ଦୁଷ୍କର୍ମ ▁ହୁଏ ▁ନାହିଁ ; ▁ଯାହା ▁ବି ▁ସଂପର୍କ ▁ହୁଏ , ▁ସେସବୁ ..., Text ▁x x b os ▁ବି ଏସ୍ ▁ଏନ୍ ▁ ଏଲ୍ ▁ , ▁ଟୋ ଟର୍ ସର ▁ଯୁଗଳ ▁ବିଜୟ]...\n",
       "Path: /home/gaurav/PycharmProjects/nlp-for-oriya/classification;\n",
       "\n",
       "Valid: LabelList\n",
       "y: LMLabel (3801 items)\n",
       "[Category 0, Category 0, Category 0, Category 0, Category 0]...\n",
       "Path: /home/gaurav/PycharmProjects/nlp-for-oriya/classification\n",
       "x: LMTextList (3801 items)\n",
       "[Text ▁x x b os ▁କ୍ରିକେଟ ରେ ▁ନୂଆ ▁ରେକର୍ଡ ▁ସ୍ଥାପିତ , ▁ଦିନିକିଆ ରେ ▁ନ୍ୟୁ ଜି ଲାଣ୍ଡ ର ▁୪ ୯୦ ▁ ର ନ୍, Text ▁x x b os ▁ସାଇନା ▁ଜିତି ଲେ ▁ଇଣ୍ଡୋନେସିଆ ▁ମାଷ୍ଟର ୍ସ ▁ଟ୍ରଫି, Text ▁x x b os ▁ପି ଏନ୍ ▁ବି ▁ପକ୍ଷ ରୁ ▁ଋଣ ▁ଶିବିର , ▁ନୂଆ ▁ଶାଖା ▁ଉଦ୍ ▁ଘାଟ ିତ, Text ▁x x b os ▁ବୋ ପା ନ୍ନା - କୁ ଇ ଭା ସ୍ ▁ଶୀର୍ଷ ▁ମାନ୍ୟତା ଙ୍କୁ ▁ହରାଇ ଲେ, Text ▁x x b os ▁ଆୟକର ▁ରି ଟ ର୍ଣ୍ଣ ▁ଇ - ଫାଇ ଲି ଂ ▁ପାଇଁ ▁ଆସିଲା ▁୭ ▁ଫର୍ମ]...\n",
       "Path: /home/gaurav/PycharmProjects/nlp-for-oriya/classification;\n",
       "\n",
       "Test: None, model=SequentialRNN(\n",
       "  (0): RNNCore(\n",
       "    (encoder): Embedding(15000, 400, padding_idx=1)\n",
       "    (encoder_dp): EmbeddingDropout(\n",
       "      (emb): Embedding(15000, 400, padding_idx=1)\n",
       "    )\n",
       "    (rnns): ModuleList(\n",
       "      (0): WeightDropout(\n",
       "        (module): LSTM(400, 1150, batch_first=True)\n",
       "      )\n",
       "      (1): WeightDropout(\n",
       "        (module): LSTM(1150, 1150, batch_first=True)\n",
       "      )\n",
       "      (2): WeightDropout(\n",
       "        (module): LSTM(1150, 400, batch_first=True)\n",
       "      )\n",
       "    )\n",
       "    (input_dp): RNNDropout()\n",
       "    (hidden_dps): ModuleList(\n",
       "      (0): RNNDropout()\n",
       "      (1): RNNDropout()\n",
       "      (2): RNNDropout()\n",
       "    )\n",
       "  )\n",
       "  (1): LinearDecoder(\n",
       "    (decoder): Linear(in_features=400, out_features=15000, bias=True)\n",
       "    (output_dp): RNNDropout()\n",
       "  )\n",
       "), opt_func=functools.partial(<class 'torch.optim.adam.Adam'>, betas=(0.9, 0.99)), loss_func=<fastai.layers.FlattenedLoss object at 0x7f4d48050f28>, metrics=[<function accuracy at 0x7f4d4b620620>], true_wd=True, bn_wd=True, wd=0.01, train_bn=True, path=PosixPath('/home/gaurav/PycharmProjects/nlp-for-oriya/classification'), model_dir='models', callback_fns=[<class 'fastai.basic_train.Recorder'>], callbacks=[...], layer_groups=[Sequential(\n",
       "  (0): WeightDropout(\n",
       "    (module): LSTM(400, 1150, batch_first=True)\n",
       "  )\n",
       "  (1): RNNDropout()\n",
       "), Sequential(\n",
       "  (0): WeightDropout(\n",
       "    (module): LSTM(1150, 1150, batch_first=True)\n",
       "  )\n",
       "  (1): RNNDropout()\n",
       "), Sequential(\n",
       "  (0): WeightDropout(\n",
       "    (module): LSTM(1150, 400, batch_first=True)\n",
       "  )\n",
       "  (1): RNNDropout()\n",
       "), Sequential(\n",
       "  (0): Embedding(15000, 400, padding_idx=1)\n",
       "  (1): EmbeddingDropout(\n",
       "    (emb): Embedding(15000, 400, padding_idx=1)\n",
       "  )\n",
       "  (2): LinearDecoder(\n",
       "    (decoder): Linear(in_features=400, out_features=15000, bias=True)\n",
       "    (output_dp): RNNDropout()\n",
       "  )\n",
       ")])\n",
       "bptt: 70\n",
       "alpha: 2.0\n",
       "beta: 1.0], layer_groups=[Sequential(\n",
       "  (0): WeightDropout(\n",
       "    (module): LSTM(400, 1150, batch_first=True)\n",
       "  )\n",
       "  (1): RNNDropout()\n",
       "), Sequential(\n",
       "  (0): WeightDropout(\n",
       "    (module): LSTM(1150, 1150, batch_first=True)\n",
       "  )\n",
       "  (1): RNNDropout()\n",
       "), Sequential(\n",
       "  (0): WeightDropout(\n",
       "    (module): LSTM(1150, 400, batch_first=True)\n",
       "  )\n",
       "  (1): RNNDropout()\n",
       "), Sequential(\n",
       "  (0): Embedding(15000, 400, padding_idx=1)\n",
       "  (1): EmbeddingDropout(\n",
       "    (emb): Embedding(15000, 400, padding_idx=1)\n",
       "  )\n",
       "  (2): LinearDecoder(\n",
       "    (decoder): Linear(in_features=400, out_features=15000, bias=True)\n",
       "    (output_dp): RNNDropout()\n",
       "  )\n",
       ")])"
      ]
     },
     "execution_count": 30,
     "metadata": {},
     "output_type": "execute_result"
    }
   ],
   "source": [
    "# Loading the pretrained language model on odia wikipedia\n",
    "learn.load('/home/gaurav/PycharmProjects/nlp-for-oriya/language-model/OriyaDataset/models/third_or_lm', with_opt=True)"
   ]
  },
  {
   "cell_type": "code",
   "execution_count": 31,
   "metadata": {},
   "outputs": [],
   "source": [
    "# Fine tuning the prtrained LM on current dataset"
   ]
  },
  {
   "cell_type": "code",
   "execution_count": 32,
   "metadata": {},
   "outputs": [
    {
     "name": "stdout",
     "output_type": "stream",
     "text": [
      "LR Finder is complete, type {learner_name}.recorder.plot() to see the graph.\n"
     ]
    }
   ],
   "source": [
    "learn.lr_find()"
   ]
  },
  {
   "cell_type": "code",
   "execution_count": 33,
   "metadata": {},
   "outputs": [
    {
     "data": {
      "image/png": "[encoded data removed]",
      "text/plain": [
       "<Figure size 432x288 with 1 Axes>"
      ]
     },
     "metadata": {
      "needs_background": "light"
     },
     "output_type": "display_data"
    }
   ],
   "source": [
    "learn.recorder.plot()"
   ]
  },
  {
   "cell_type": "code",
   "execution_count": 34,
   "metadata": {},
   "outputs": [],
   "source": [
    "learn.freeze()"
   ]
  },
  {
   "cell_type": "code",
   "execution_count": 35,
   "metadata": {},
   "outputs": [
    {
     "data": {
      "text/html": [
       "Total time: 00:07 <p><table style='width:300px; margin-bottom:10px'>\n",
       "  <tr>\n",
       "    <th>epoch</th>\n",
       "    <th>train_loss</th>\n",
       "    <th>valid_loss</th>\n",
       "    <th>accuracy</th>\n",
       "  </tr>\n",
       "  <tr>\n",
       "    <th>1</th>\n",
       "    <th>5.275106</th>\n",
       "    <th>4.788786</th>\n",
       "    <th>0.316310</th>\n",
       "  </tr>\n",
       "</table>\n"
      ],
      "text/plain": [
       "<IPython.core.display.HTML object>"
      ]
     },
     "metadata": {},
     "output_type": "display_data"
    }
   ],
   "source": [
    "learn.fit_one_cycle(1, 1e-2, moms=(0.8,0.7))"
   ]
  },
  {
   "cell_type": "code",
   "execution_count": 36,
   "metadata": {},
   "outputs": [],
   "source": [
    "learn.save('fit_head', with_opt=True)"
   ]
  },
  {
   "cell_type": "code",
   "execution_count": 37,
   "metadata": {},
   "outputs": [],
   "source": [
    "learn.load('fit_head', with_opt=True);"
   ]
  },
  {
   "cell_type": "code",
   "execution_count": 38,
   "metadata": {},
   "outputs": [],
   "source": [
    "learn.unfreeze()"
   ]
  },
  {
   "cell_type": "code",
   "execution_count": 39,
   "metadata": {},
   "outputs": [
    {
     "data": {
      "text/html": [
       "Total time: 01:30 <p><table style='width:300px; margin-bottom:10px'>\n",
       "  <tr>\n",
       "    <th>epoch</th>\n",
       "    <th>train_loss</th>\n",
       "    <th>valid_loss</th>\n",
       "    <th>accuracy</th>\n",
       "  </tr>\n",
       "  <tr>\n",
       "    <th>1</th>\n",
       "    <th>4.555768</th>\n",
       "    <th>4.462184</th>\n",
       "    <th>0.335278</th>\n",
       "  </tr>\n",
       "  <tr>\n",
       "    <th>2</th>\n",
       "    <th>4.307718</th>\n",
       "    <th>4.175286</th>\n",
       "    <th>0.364965</th>\n",
       "  </tr>\n",
       "  <tr>\n",
       "    <th>3</th>\n",
       "    <th>4.043051</th>\n",
       "    <th>3.958212</th>\n",
       "    <th>0.391389</th>\n",
       "  </tr>\n",
       "  <tr>\n",
       "    <th>4</th>\n",
       "    <th>3.781583</th>\n",
       "    <th>3.825122</th>\n",
       "    <th>0.407173</th>\n",
       "  </tr>\n",
       "  <tr>\n",
       "    <th>5</th>\n",
       "    <th>3.568018</th>\n",
       "    <th>3.744575</th>\n",
       "    <th>0.417361</th>\n",
       "  </tr>\n",
       "  <tr>\n",
       "    <th>6</th>\n",
       "    <th>3.389605</th>\n",
       "    <th>3.699792</th>\n",
       "    <th>0.424082</th>\n",
       "  </tr>\n",
       "  <tr>\n",
       "    <th>7</th>\n",
       "    <th>3.257524</th>\n",
       "    <th>3.678602</th>\n",
       "    <th>0.426295</th>\n",
       "  </tr>\n",
       "  <tr>\n",
       "    <th>8</th>\n",
       "    <th>3.152715</th>\n",
       "    <th>3.671456</th>\n",
       "    <th>0.428130</th>\n",
       "  </tr>\n",
       "  <tr>\n",
       "    <th>9</th>\n",
       "    <th>3.099012</th>\n",
       "    <th>3.672034</th>\n",
       "    <th>0.428591</th>\n",
       "  </tr>\n",
       "  <tr>\n",
       "    <th>10</th>\n",
       "    <th>3.066362</th>\n",
       "    <th>3.671679</th>\n",
       "    <th>0.428691</th>\n",
       "  </tr>\n",
       "</table>\n"
      ],
      "text/plain": [
       "<IPython.core.display.HTML object>"
      ]
     },
     "metadata": {},
     "output_type": "display_data"
    }
   ],
   "source": [
    "learn.fit_one_cycle(10, 1e-3, moms=(0.8,0.7))"
   ]
  },
  {
   "cell_type": "code",
   "execution_count": 40,
   "metadata": {},
   "outputs": [],
   "source": [
    "learn.save('fine_tuned', with_opt=True)"
   ]
  },
  {
   "cell_type": "code",
   "execution_count": 41,
   "metadata": {},
   "outputs": [],
   "source": [
    "learn.load('fine_tuned', with_opt=True);"
   ]
  },
  {
   "cell_type": "code",
   "execution_count": 43,
   "metadata": {},
   "outputs": [
    {
     "data": {
      "text/plain": [
       "'ରେ ଅପ ଗ୍ ରେ ଡ ିଆନ୍ ▁କୋ ହି ଟ୍ ▁- ▁ଜାଣନ୍ତ ▁x b os ▁୬୩'"
      ]
     },
     "execution_count": 43,
     "metadata": {},
     "output_type": "execute_result"
    }
   ],
   "source": [
    "learn.predict('ରେ ଅପ ଗ୍ ରେ ଡ',n_words=10)"
   ]
  },
  {
   "cell_type": "code",
   "execution_count": 44,
   "metadata": {},
   "outputs": [],
   "source": [
    "learn.save_encoder('fine_tuned_enc')"
   ]
  },
  {
   "cell_type": "code",
   "execution_count": 45,
   "metadata": {},
   "outputs": [],
   "source": [
    "data_clas = TextClasDataBunch.from_csv(path=path, csv_name='Odia_News_Classification.csv', tokenizer=tokenizer, vocab=oriya_vocab, text_cols=[0], label_cols=label_cols)"
   ]
  },
  {
   "cell_type": "code",
   "execution_count": 46,
   "metadata": {},
   "outputs": [
    {
     "data": {
      "text/html": [
       "<table>  <col width='90%'>  <col width='10%'>  <tr>\n",
       "    <th>text</th>\n",
       "    <th>target</th>\n",
       "  </tr>\n",
       "  <tr>\n",
       "    <th>▁x x b os ▁୧୧ ▁ଶହ ▁ସହର ରେ ▁ପହଞ୍ଚି ବ ▁ଜି ଓ ▁ ଗି ଗା ▁ଫାଇ ବର , ▁ ଡେନ ▁ ନେଟ ଓ ୍ <unk> ର୍କ ▁ଓ ▁ହା ଥେ ଓ ୍ <unk> ▁କେ ବୁଲ ର ▁ସର୍ବାଧିକ ▁ଅଂଶ ଧନ ▁ଖ ରି ଦ ▁କଲା ▁ରି ଲା ଏନ୍ ସ</th>\n",
       "    <th>business</th>\n",
       "  </tr>\n",
       "  <tr>\n",
       "    <th>▁x x b os ▁ନି ଦା ହାସ ▁ଟ୍ରଫି : ▁ଓ ୍ <unk> ା ସିଙ୍ଗ ଟନ୍ ▁ ଙ୍କୁ ▁୩ଟି ▁ଓ ୍ <unk> ିକ େଟ୍ ▁ , ▁ବାଂଲାଦେଶ ▁ବିପକ୍ଷ ରେ ▁ଭାରତ ▁୧୭ ▁ ର ନ୍ ▁ ରେ ▁ବିଜୟୀ , ▁ଫାଇନାଲ ୍ ▁ ରେ ...</th>\n",
       "    <th>sports</th>\n",
       "  </tr>\n",
       "  <tr>\n",
       "    <th>▁x x b os ▁କୋଲକାତା ▁ଟି - ୨୦ : ▁ କୁ ଲ ଦୀପ ଙ୍କୁ ▁୩ ▁ଓ ୍ <unk> କେଟ ୍ ▁ , ▁ୱେଷ୍ଟ ଇଣ୍ଡ ିଜ୍ ▁ ର ▁ବ୍ୟା ଟି ଂ ▁ବିପର୍ଯ୍ୟୟ ▁ପରେ ▁ଭାରତ କୁ ▁ମିଳିଲା ▁୧୧୦ ▁ ର ନ୍ ▁ ...</th>\n",
       "    <th>sports</th>\n",
       "  </tr>\n",
       "  <tr>\n",
       "    <th>▁x x b os ▁ବି ଦା ▁ହେଲେ ▁ଆର୍ଜେଣ୍ଟିନା , ▁ପର୍ ତୁ ଗା ଲ୍ ▁: ▁ଫ୍ରା ନ୍ ▁ସ - ଉ ରୁ ଗୁ ଏ ▁କ୍ ୱାର୍ ଟର ରେ ▁ ମୁହାଁ ମୁ ହିଁ , ▁ଫିକା ▁ପଡ଼ିଲେ ▁ମେ ସି , ...</th>\n",
       "    <th>sports</th>\n",
       "  </tr>\n",
       "  <tr>\n",
       "    <th>▁x x b os ▁ଯୁବ ା ▁ବା ସ୍ କେଟ ବ ଲ୍ ▁ସେ ମି ରେ ▁ସାଇ ନି ଂ ▁ଷ୍ଟାର - ଏମ୍ ▁ବି ସି , ▁କେ ବି ଡ ବ୍ଲ ୁ - ସ ରୋଜ ▁ଓ ୍ <unk> ାରି ୟ ର୍ସ</th>\n",
       "    <th>sports</th>\n",
       "  </tr>\n",
       "</table>\n"
      ],
      "text/plain": [
       "<IPython.core.display.HTML object>"
      ]
     },
     "metadata": {},
     "output_type": "display_data"
    }
   ],
   "source": [
    "data_clas.show_batch()"
   ]
  },
  {
   "cell_type": "code",
   "execution_count": 47,
   "metadata": {},
   "outputs": [],
   "source": [
    "data_clas.sanity_check()"
   ]
  },
  {
   "cell_type": "code",
   "execution_count": 48,
   "metadata": {},
   "outputs": [],
   "source": [
    "learn = text_classifier_learner(data_clas, drop_mult=0.5)"
   ]
  },
  {
   "cell_type": "code",
   "execution_count": 49,
   "metadata": {},
   "outputs": [],
   "source": [
    "learn.load_encoder('fine_tuned_enc')"
   ]
  },
  {
   "cell_type": "code",
   "execution_count": 50,
   "metadata": {},
   "outputs": [],
   "source": [
    "learn.freeze()"
   ]
  },
  {
   "cell_type": "code",
   "execution_count": 51,
   "metadata": {},
   "outputs": [
    {
     "name": "stdout",
     "output_type": "stream",
     "text": [
      "LR Finder is complete, type {learner_name}.recorder.plot() to see the graph.\n"
     ]
    }
   ],
   "source": [
    "learn.lr_find()"
   ]
  },
  {
   "cell_type": "code",
   "execution_count": 52,
   "metadata": {},
   "outputs": [
    {
     "data": {
      "image/png": "[encoded data removed]",
      "text/plain": [
       "<Figure size 432x288 with 1 Axes>"
      ]
     },
     "metadata": {
      "needs_background": "light"
     },
     "output_type": "display_data"
    }
   ],
   "source": [
    "learn.recorder.plot()"
   ]
  },
  {
   "cell_type": "code",
   "execution_count": 53,
   "metadata": {},
   "outputs": [
    {
     "data": {
      "text/plain": [
       "CrossEntropyLoss()"
      ]
     },
     "execution_count": 53,
     "metadata": {},
     "output_type": "execute_result"
    }
   ],
   "source": [
    "learn.loss_func.func"
   ]
  },
  {
   "cell_type": "code",
   "execution_count": 54,
   "metadata": {},
   "outputs": [],
   "source": [
    "kappa = KappaScore()"
   ]
  },
  {
   "cell_type": "code",
   "execution_count": 55,
   "metadata": {},
   "outputs": [],
   "source": [
    "learn.metrics = [kappa, accuracy]"
   ]
  },
  {
   "cell_type": "code",
   "execution_count": 56,
   "metadata": {},
   "outputs": [
    {
     "data": {
      "text/html": [
       "Total time: 00:05 <p><table style='width:375px; margin-bottom:10px'>\n",
       "  <tr>\n",
       "    <th>epoch</th>\n",
       "    <th>train_loss</th>\n",
       "    <th>valid_loss</th>\n",
       "    <th>kappa_score</th>\n",
       "    <th>accuracy</th>\n",
       "  </tr>\n",
       "  <tr>\n",
       "    <th>1</th>\n",
       "    <th>0.429040</th>\n",
       "    <th>0.251198</th>\n",
       "    <th>0.851344</th>\n",
       "    <th>0.905288</th>\n",
       "  </tr>\n",
       "</table>\n"
      ],
      "text/plain": [
       "<IPython.core.display.HTML object>"
      ]
     },
     "metadata": {},
     "output_type": "display_data"
    }
   ],
   "source": [
    "learn.fit_one_cycle(1, 1e-2, moms=(0.8,0.7))"
   ]
  },
  {
   "cell_type": "code",
   "execution_count": 57,
   "metadata": {},
   "outputs": [],
   "source": [
    "learn.save('first-full')"
   ]
  },
  {
   "cell_type": "code",
   "execution_count": 58,
   "metadata": {},
   "outputs": [],
   "source": [
    "learn.load('first-full');"
   ]
  },
  {
   "cell_type": "code",
   "execution_count": 59,
   "metadata": {},
   "outputs": [
    {
     "data": {
      "text/html": [
       "Total time: 00:33 <p><table style='width:375px; margin-bottom:10px'>\n",
       "  <tr>\n",
       "    <th>epoch</th>\n",
       "    <th>train_loss</th>\n",
       "    <th>valid_loss</th>\n",
       "    <th>kappa_score</th>\n",
       "    <th>accuracy</th>\n",
       "  </tr>\n",
       "  <tr>\n",
       "    <th>1</th>\n",
       "    <th>0.359809</th>\n",
       "    <th>0.228144</th>\n",
       "    <th>0.877307</th>\n",
       "    <th>0.922126</th>\n",
       "  </tr>\n",
       "  <tr>\n",
       "    <th>2</th>\n",
       "    <th>0.285676</th>\n",
       "    <th>0.177375</th>\n",
       "    <th>0.898321</th>\n",
       "    <th>0.935017</th>\n",
       "  </tr>\n",
       "  <tr>\n",
       "    <th>3</th>\n",
       "    <th>0.211575</th>\n",
       "    <th>0.153899</th>\n",
       "    <th>0.910943</th>\n",
       "    <th>0.943436</th>\n",
       "  </tr>\n",
       "  <tr>\n",
       "    <th>4</th>\n",
       "    <th>0.161906</th>\n",
       "    <th>0.141057</th>\n",
       "    <th>0.921065</th>\n",
       "    <th>0.949750</th>\n",
       "  </tr>\n",
       "  <tr>\n",
       "    <th>5</th>\n",
       "    <th>0.134699</th>\n",
       "    <th>0.141584</th>\n",
       "    <th>0.921683</th>\n",
       "    <th>0.950013</th>\n",
       "  </tr>\n",
       "</table>\n"
      ],
      "text/plain": [
       "<IPython.core.display.HTML object>"
      ]
     },
     "metadata": {},
     "output_type": "display_data"
    }
   ],
   "source": [
    "learn.freeze_to(-2)\n",
    "learn.fit_one_cycle(5, slice(1e-2/(2.6**4),1e-2), moms=(0.8,0.7))"
   ]
  },
  {
   "cell_type": "code",
   "execution_count": 60,
   "metadata": {},
   "outputs": [],
   "source": [
    "learn.save('final')"
   ]
  },
  {
   "cell_type": "code",
   "execution_count": 61,
   "metadata": {},
   "outputs": [
    {
     "data": {
      "text/plain": [
       "(Category entertainment,\n",
       " tensor(1),\n",
       " tensor([6.4280e-04, 9.8621e-01, 1.3148e-02]))"
      ]
     },
     "execution_count": 61,
     "metadata": {},
     "output_type": "execute_result"
    }
   ],
   "source": [
    "learn.predict('ମୁମ୍ବାଇ : ଗତବର୍ଷ ବିବାହ ବନ୍ଧନରେ ବାନ୍ଧି ହୋଇଥିଲେ ବଲିଉଡ୍‌ର ଦେଶୀଗର୍ଲ ପ୍ରିୟଙ୍କା ଚୋପ୍ରା ଏବଂ ତାଙ୍କ ପ୍ରେମିକ ନିକ୍‌ ଜୋନ୍‌ସ ।')"
   ]
  },
  {
   "cell_type": "code",
   "execution_count": 62,
   "metadata": {},
   "outputs": [
    {
     "data": {
      "text/plain": [
       "(Category entertainment, tensor(1), tensor([0.0057, 0.9437, 0.0506]))"
      ]
     },
     "execution_count": 62,
     "metadata": {},
     "output_type": "execute_result"
    }
   ],
   "source": [
    "learn.predict(\"ମୁମ୍ବାଇ : ବଲିଉଡ୍‌ର ଦବଙ୍ଗ ଷ୍ଟାର ସଲମାନ ଖାନ୍‌ କେବଳ ନିଜ ଫିଲ୍ମ ପାଇଁ ନୁହନ୍ତି, ଲୋକମାନଙ୍କୁ ସାହାଯ୍ୟ କରିବାକୁ ନେଇ ମଧ୍ୟ\")"
   ]
  },
  {
   "cell_type": "code",
   "execution_count": 63,
   "metadata": {},
   "outputs": [
    {
     "data": {
      "text/plain": [
       "(Category business, tensor(0), tensor([9.9981e-01, 4.9716e-18, 1.9255e-04]))"
      ]
     },
     "execution_count": 63,
     "metadata": {},
     "output_type": "execute_result"
    }
   ],
   "source": [
    "learn.predict(\"ଆଗାମୀ ଦିନରେ ବୋଇଂ ୭୩୭ ମ୍ୟାକ୍ସ ୮ ବିମାନ ଅନେକ କମ୍ପାନି ଉଡ଼ାଣ କରୁଥିବାରୁ ସରକାର ଓ ବେସାମରିକ ବିମାନ ଚଳାଚଳ ମହାନିର୍ଦ୍ଦେଶାଳୟ\")"
   ]
  },
  {
   "cell_type": "code",
   "execution_count": 64,
   "metadata": {},
   "outputs": [
    {
     "data": {
      "text/plain": [
       "(Category business, tensor(0), tensor([9.9809e-01, 1.9661e-05, 1.8933e-03]))"
      ]
     },
     "execution_count": 64,
     "metadata": {},
     "output_type": "execute_result"
    }
   ],
   "source": [
    "learn.predict(\"ଦୁଇଦିନ ପାଇଁ ଆୟୋଜନ କରାଯାଇଛି। ହରି ଓମ୍ ଭବନରେ ଅନୁଷ୍ଠିତ ଏହି ଏକ୍ସପୋରେ ଗ୍ରାହକଙ୍କ ପାଇଁ ପୁରୁଣା କାର୍ ବଦଳାଇ ନୂଆ କରା କିଣିବା \")"
   ]
  },
  {
   "cell_type": "code",
   "execution_count": 65,
   "metadata": {},
   "outputs": [
    {
     "data": {
      "text/plain": [
       "(Category sports, tensor(2), tensor([6.8803e-06, 8.8468e-12, 9.9999e-01]))"
      ]
     },
     "execution_count": 65,
     "metadata": {},
     "output_type": "execute_result"
    }
   ],
   "source": [
    "learn.predict(\"ତିରୁବନ୍ତପୁରମ୍‌: କେରଳରେ ଆୟୋଜିତ ଚତୁଃକୋଣୀୟ ୧୯ ବର୍ଷରୁ କମ୍‌ କ୍ରିକେଟ୍‌ ଶୃଙ୍ଖଳାରେ ଅପରାଜେୟ ଭାରତ-ବି ଦଳ ବିଜେତା ଆଖ୍ୟା ହାସଲ \")"
   ]
  },
  {
   "cell_type": "code",
   "execution_count": null,
   "metadata": {},
   "outputs": [],
   "source": []
  }
 ],
 "metadata": {
  "kernelspec": {
   "display_name": "Python 3",
   "language": "python",
   "name": "python3"
  },
  "language_info": {
   "codemirror_mode": {
    "name": "ipython",
    "version": 3
   },
   "file_extension": ".py",
   "mimetype": "text/x-python",
   "name": "python",
   "nbconvert_exporter": "python",
   "pygments_lexer": "ipython3",
   "version": "3.6.7"
  }
 },
 "nbformat": 4,
 "nbformat_minor": 2
}
