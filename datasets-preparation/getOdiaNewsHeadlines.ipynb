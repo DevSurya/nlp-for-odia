{
 "cells": [
  {
   "cell_type": "code",
   "execution_count": 43,
   "metadata": {},
   "outputs": [],
   "source": [
    "from selenium import webdriver\n",
    "from bs4 import BeautifulSoup\n",
    "from urllib.request import urlopen, Request\n",
    "import re\n",
    "import pickle\n",
    "import pandas as pd"
   ]
  },
  {
   "cell_type": "code",
   "execution_count": 18,
   "metadata": {},
   "outputs": [],
   "source": [
    "all_sports_headings = []"
   ]
  },
  {
   "cell_type": "code",
   "execution_count": 31,
   "metadata": {},
   "outputs": [
    {
     "name": "stdout",
     "output_type": "stream",
     "text": [
      "4995\n",
      "5994\n",
      "6987\n",
      "7981\n"
     ]
    }
   ],
   "source": [
    "for i in range(401,869):\n",
    "    url = 'http://sambad.in/sports/page/' + str(i) + '/'\n",
    "    req = Request(url, headers={'User-Agent': 'Mozilla/5.0'})\n",
    "    html_doc = ''\n",
    "    with urlopen(req) as response:\n",
    "        for line in response:\n",
    "            line = line.decode('utf-8')\n",
    "            html_doc = html_doc + line.replace('\\n','')\n",
    "    soup = BeautifulSoup(html_doc, 'html.parser')\n",
    "    articles = soup.find_all('article')\n",
    "    for article in articles:\n",
    "        all_sports_headings.append(article.find('h2').text)\n",
    "    if i%100 == 0:\n",
    "        print(len(set(all_sports_headings)))"
   ]
  },
  {
   "cell_type": "code",
   "execution_count": 32,
   "metadata": {},
   "outputs": [],
   "source": [
    "all_sports_headings = list(set(all_sports_headings))"
   ]
  },
  {
   "cell_type": "code",
   "execution_count": 33,
   "metadata": {},
   "outputs": [
    {
     "data": {
      "text/plain": [
       "8650"
      ]
     },
     "execution_count": 33,
     "metadata": {},
     "output_type": "execute_result"
    }
   ],
   "source": [
    "len(all_sports_headings)"
   ]
  },
  {
   "cell_type": "code",
   "execution_count": 23,
   "metadata": {},
   "outputs": [],
   "source": [
    "all_business_headings = []"
   ]
  },
  {
   "cell_type": "code",
   "execution_count": 24,
   "metadata": {},
   "outputs": [
    {
     "name": "stdout",
     "output_type": "stream",
     "text": [
      "985\n",
      "1982\n",
      "2977\n",
      "3973\n",
      "4968\n"
     ]
    }
   ],
   "source": [
    "for i in range(1,583):\n",
    "    url = 'http://sambad.in/business/page/' + str(i) + '/'\n",
    "    req = Request(url, headers={'User-Agent': 'Mozilla/5.0'})\n",
    "    html_doc = ''\n",
    "    with urlopen(req) as response:\n",
    "        for line in response:\n",
    "            line = line.decode('utf-8')\n",
    "            html_doc = html_doc + line.replace('\\n','')\n",
    "    soup = BeautifulSoup(html_doc, 'html.parser')\n",
    "    articles = soup.find_all('article')\n",
    "    for article in articles:\n",
    "        all_business_headings.append(article.find('h2').text)\n",
    "    if i%100 == 0:\n",
    "        print(len(set(all_business_headings)))"
   ]
  },
  {
   "cell_type": "code",
   "execution_count": 25,
   "metadata": {},
   "outputs": [],
   "source": [
    "all_business_headings = list(set(all_business_headings))"
   ]
  },
  {
   "cell_type": "code",
   "execution_count": 26,
   "metadata": {},
   "outputs": [
    {
     "data": {
      "text/plain": [
       "5779"
      ]
     },
     "execution_count": 26,
     "metadata": {},
     "output_type": "execute_result"
    }
   ],
   "source": [
    "len(all_business_headings)"
   ]
  },
  {
   "cell_type": "code",
   "execution_count": 27,
   "metadata": {},
   "outputs": [],
   "source": [
    "all_entertainment_headings = []"
   ]
  },
  {
   "cell_type": "code",
   "execution_count": 28,
   "metadata": {},
   "outputs": [
    {
     "name": "stdout",
     "output_type": "stream",
     "text": [
      "1203\n",
      "2403\n",
      "3601\n"
     ]
    }
   ],
   "source": [
    "for i in range(1,382):\n",
    "    url = 'http://sambad.in/entertainment/page/' + str(i) + '/'\n",
    "    req = Request(url, headers={'User-Agent': 'Mozilla/5.0'})\n",
    "    html_doc = ''\n",
    "    with urlopen(req) as response:\n",
    "        for line in response:\n",
    "            line = line.decode('utf-8')\n",
    "            html_doc = html_doc + line.replace('\\n','')\n",
    "    soup = BeautifulSoup(html_doc, 'html.parser')\n",
    "    articles = soup.find_all('article')\n",
    "    for article in articles:\n",
    "        all_entertainment_headings.append(article.find('h2').text)\n",
    "    if i%100 == 0:\n",
    "        print(len(set(all_entertainment_headings)))"
   ]
  },
  {
   "cell_type": "code",
   "execution_count": 29,
   "metadata": {},
   "outputs": [],
   "source": [
    "all_entertainment_headings = list(set(all_entertainment_headings))"
   ]
  },
  {
   "cell_type": "code",
   "execution_count": 30,
   "metadata": {},
   "outputs": [
    {
     "data": {
      "text/plain": [
       "4572"
      ]
     },
     "execution_count": 30,
     "metadata": {},
     "output_type": "execute_result"
    }
   ],
   "source": [
    "len(all_entertainment_headings)"
   ]
  },
  {
   "cell_type": "code",
   "execution_count": 39,
   "metadata": {},
   "outputs": [],
   "source": [
    "all_headings = all_entertainment_headings + all_business_headings + all_sports_headings"
   ]
  },
  {
   "cell_type": "code",
   "execution_count": 40,
   "metadata": {},
   "outputs": [
    {
     "data": {
      "text/plain": [
       "19001"
      ]
     },
     "execution_count": 40,
     "metadata": {},
     "output_type": "execute_result"
    }
   ],
   "source": [
    "len(all_headings)"
   ]
  },
  {
   "cell_type": "code",
   "execution_count": 41,
   "metadata": {},
   "outputs": [],
   "source": [
    "all_labels = ['entertainment']*len(all_entertainment_headings) + ['business']*len(all_business_headings) + ['sports']*len(all_sports_headings)"
   ]
  },
  {
   "cell_type": "code",
   "execution_count": 44,
   "metadata": {},
   "outputs": [],
   "source": [
    "df = pd.DataFrame({'headings':all_headings, 'label':all_labels})"
   ]
  },
  {
   "cell_type": "code",
   "execution_count": 45,
   "metadata": {},
   "outputs": [
    {
     "data": {
      "text/plain": [
       "(19001, 2)"
      ]
     },
     "execution_count": 45,
     "metadata": {},
     "output_type": "execute_result"
    }
   ],
   "source": [
    "df.shape"
   ]
  },
  {
   "cell_type": "code",
   "execution_count": 46,
   "metadata": {},
   "outputs": [
    {
     "data": {
      "text/html": [
       "<div>\n",
       "<style scoped>\n",
       "    .dataframe tbody tr th:only-of-type {\n",
       "        vertical-align: middle;\n",
       "    }\n",
       "\n",
       "    .dataframe tbody tr th {\n",
       "        vertical-align: top;\n",
       "    }\n",
       "\n",
       "    .dataframe thead th {\n",
       "        text-align: right;\n",
       "    }\n",
       "</style>\n",
       "<table border=\"1\" class=\"dataframe\">\n",
       "  <thead>\n",
       "    <tr style=\"text-align: right;\">\n",
       "      <th></th>\n",
       "      <th>headings</th>\n",
       "      <th>label</th>\n",
       "    </tr>\n",
       "  </thead>\n",
       "  <tbody>\n",
       "    <tr>\n",
       "      <th>0</th>\n",
       "      <td>ଚାରିବର୍ଷ ପରେ ରିତିକ୍‌ଙ୍କ ସହ କାଟ୍ରିନା କରିବେ ବ୍ୟ...</td>\n",
       "      <td>entertainment</td>\n",
       "    </tr>\n",
       "    <tr>\n",
       "      <th>1</th>\n",
       "      <td>ନୂଆ ନାୟକଙ୍କର ଓଲିଉଡର ଜଣାଶୁଣା ନାୟିକାଙ୍କ ସହ ଅନ୍‌...</td>\n",
       "      <td>entertainment</td>\n",
       "    </tr>\n",
       "    <tr>\n",
       "      <th>2</th>\n",
       "      <td>ଟାଇଗର ଶ୍ରଫ୍‌ଙ୍କ ଦୁଇ କିଶୋର ଫ୍ୟାନ୍‌ କଲେ ଏଭଳି ବି...</td>\n",
       "      <td>entertainment</td>\n",
       "    </tr>\n",
       "    <tr>\n",
       "      <th>3</th>\n",
       "      <td>‘ହମ୍‌ ଆପକେ ହୈ କୌନ୍‌’ ରିମେକରେ ବରୁଣ ଓ ଆଲିଆ ନାୟକ...</td>\n",
       "      <td>entertainment</td>\n",
       "    </tr>\n",
       "    <tr>\n",
       "      <th>4</th>\n",
       "      <td>ଶ୍ରୀଦେବୀଙ୍କ ପରେ ଜାହ୍ନବୀଙ୍କର ମା’ପରି ଧ୍ୟାନ ରଖୁଛ...</td>\n",
       "      <td>entertainment</td>\n",
       "    </tr>\n",
       "  </tbody>\n",
       "</table>\n",
       "</div>"
      ],
      "text/plain": [
       "                                            headings          label\n",
       "0   ଚାରିବର୍ଷ ପରେ ରିତିକ୍‌ଙ୍କ ସହ କାଟ୍ରିନା କରିବେ ବ୍ୟ...  entertainment\n",
       "1   ନୂଆ ନାୟକଙ୍କର ଓଲିଉଡର ଜଣାଶୁଣା ନାୟିକାଙ୍କ ସହ ଅନ୍‌...  entertainment\n",
       "2   ଟାଇଗର ଶ୍ରଫ୍‌ଙ୍କ ଦୁଇ କିଶୋର ଫ୍ୟାନ୍‌ କଲେ ଏଭଳି ବି...  entertainment\n",
       "3   ‘ହମ୍‌ ଆପକେ ହୈ କୌନ୍‌’ ରିମେକରେ ବରୁଣ ଓ ଆଲିଆ ନାୟକ...  entertainment\n",
       "4   ଶ୍ରୀଦେବୀଙ୍କ ପରେ ଜାହ୍ନବୀଙ୍କର ମା’ପରି ଧ୍ୟାନ ରଖୁଛ...  entertainment"
      ]
     },
     "execution_count": 46,
     "metadata": {},
     "output_type": "execute_result"
    }
   ],
   "source": [
    "df.head()"
   ]
  },
  {
   "cell_type": "code",
   "execution_count": 47,
   "metadata": {},
   "outputs": [],
   "source": [
    "df.to_csv('Odia_News_Classification.csv', index=False)"
   ]
  },
  {
   "cell_type": "code",
   "execution_count": null,
   "metadata": {},
   "outputs": [],
   "source": []
  }
 ],
 "metadata": {
  "kernelspec": {
   "display_name": "Python 3",
   "language": "python",
   "name": "python3"
  },
  "language_info": {
   "codemirror_mode": {
    "name": "ipython",
    "version": 3
   },
   "file_extension": ".py",
   "mimetype": "text/x-python",
   "name": "python",
   "nbconvert_exporter": "python",
   "pygments_lexer": "ipython3",
   "version": "3.6.7"
  }
 },
 "nbformat": 4,
 "nbformat_minor": 2
}
