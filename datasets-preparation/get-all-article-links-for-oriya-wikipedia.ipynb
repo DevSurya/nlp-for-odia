{
 "cells": [
  {
   "cell_type": "code",
   "execution_count": 1,
   "metadata": {},
   "outputs": [],
   "source": [
    "from urllib.request import urlopen\n",
    "import pickle"
   ]
  },
  {
   "cell_type": "code",
   "execution_count": 2,
   "metadata": {},
   "outputs": [],
   "source": [
    "html_doc = ''\n",
    "with urlopen('https://or.wikipedia.org/wiki/%E0%AC%AA%E0%AD%8D%E0%AC%B0%E0%AC%A7%E0%AC%BE%E0%AC%A8_%E0%AC%AA%E0%AD%83%E0%AC%B7%E0%AD%8D%E0%AC%A0%E0%AC%BE') as response:\n",
    "    for line in response:\n",
    "        line = line.decode('utf-8')\n",
    "        html_doc = html_doc + line.replace('\\n','')"
   ]
  },
  {
   "cell_type": "code",
   "execution_count": 3,
   "metadata": {},
   "outputs": [],
   "source": [
    "from bs4 import BeautifulSoup\n",
    "soup = BeautifulSoup(html_doc, 'html.parser')"
   ]
  },
  {
   "cell_type": "code",
   "execution_count": 4,
   "metadata": {},
   "outputs": [
    {
     "data": {
      "text/plain": [
       "'ପ୍ରଧାନ ପୃଷ୍ଠା'"
      ]
     },
     "execution_count": 4,
     "metadata": {},
     "output_type": "execute_result"
    }
   ],
   "source": [
    "soup.h1.string"
   ]
  },
  {
   "cell_type": "code",
   "execution_count": 5,
   "metadata": {},
   "outputs": [],
   "source": [
    "tab = soup.find(\"table\",{\"style\":\"border:2px solid #e1eaee; border-collapse:separate;font-size:120%\"})"
   ]
  },
  {
   "cell_type": "code",
   "execution_count": 6,
   "metadata": {},
   "outputs": [],
   "source": [
    "anchors = tab.find_all('a')"
   ]
  },
  {
   "cell_type": "code",
   "execution_count": 7,
   "metadata": {},
   "outputs": [],
   "source": [
    "home_url = 'https://or.wikipedia.org' \n",
    "links = [home_url + anchor['href'] for anchor in anchors]"
   ]
  },
  {
   "cell_type": "code",
   "execution_count": 8,
   "metadata": {},
   "outputs": [
    {
     "data": {
      "text/plain": [
       "52"
      ]
     },
     "execution_count": 8,
     "metadata": {},
     "output_type": "execute_result"
    }
   ],
   "source": [
    "len(links)"
   ]
  },
  {
   "cell_type": "code",
   "execution_count": 10,
   "metadata": {},
   "outputs": [],
   "source": [
    "all_links = []"
   ]
  },
  {
   "cell_type": "code",
   "execution_count": 11,
   "metadata": {},
   "outputs": [
    {
     "name": "stdout",
     "output_type": "stream",
     "text": [
      "345\n",
      "690\n",
      "1035\n",
      "1380\n",
      "1725\n",
      "2070\n",
      "2415\n",
      "2647\n",
      "2647\n",
      "2992\n",
      "3337\n",
      "3682\n",
      "4027\n",
      "4372\n",
      "4717\n",
      "5062\n",
      "5407\n",
      "5752\n",
      "6097\n",
      "6442\n",
      "6787\n",
      "7132\n",
      "7477\n",
      "7822\n",
      "8167\n",
      "8512\n",
      "8857\n",
      "9202\n",
      "9547\n",
      "9892\n",
      "10237\n",
      "10582\n",
      "10927\n",
      "11272\n",
      "11617\n",
      "11962\n",
      "12307\n",
      "12652\n",
      "12997\n",
      "13342\n",
      "13687\n",
      "14032\n",
      "14377\n",
      "14722\n",
      "15067\n",
      "15412\n",
      "15757\n",
      "16102\n",
      "16447\n",
      "16792\n",
      "17137\n",
      "17482\n",
      "17781\n",
      "17781\n",
      "17781\n",
      "17781\n",
      "17781\n",
      "17781\n",
      "17781\n",
      "17781\n",
      "17781\n",
      "17781\n",
      "17781\n",
      "17781\n",
      "17781\n",
      "17781\n",
      "17781\n",
      "17781\n",
      "17781\n",
      "17781\n",
      "17781\n",
      "17781\n",
      "17781\n",
      "17781\n",
      "17781\n",
      "17781\n",
      "17781\n",
      "17781\n",
      "17781\n",
      "17781\n",
      "17781\n",
      "17781\n",
      "17781\n",
      "17781\n",
      "17781\n",
      "17781\n",
      "17781\n",
      "17781\n",
      "17781\n",
      "17781\n",
      "17781\n",
      "17781\n",
      "17781\n",
      "17781\n",
      "17781\n",
      "17781\n",
      "17781\n",
      "17781\n",
      "17781\n",
      "17781\n",
      "17781\n",
      "17781\n",
      "17781\n"
     ]
    }
   ],
   "source": [
    "# Main code\n",
    "prev_len = 0\n",
    "for link in links:    \n",
    "    while link:\n",
    "        html_doc = ''\n",
    "        with urlopen(link) as response:\n",
    "            for line in response:\n",
    "                line = line.decode('utf-8')\n",
    "                html_doc = html_doc + line.replace('\\n','')\n",
    "            soup = BeautifulSoup(html_doc, 'html.parser')\n",
    "            div = soup.find('div',{'class':'mw-allpages-body'})\n",
    "            if div:\n",
    "                anchors = div.find_all('a');\n",
    "                all_links = all_links + [home_url + anchor['href'] for anchor in anchors]\n",
    "                print(len(set(all_links)))\n",
    "            if prev_len == len(set(all_links)):\n",
    "                break\n",
    "            nav_div = soup.find('div',{'class':'mw-allpages-nav'})\n",
    "            if nav_div and len(nav_div.find_all('a')) == 2:\n",
    "                link = home_url + nav_div.find_all('a')[1]['href']\n",
    "            prev_len = len(set(all_links))"
   ]
  },
  {
   "cell_type": "code",
   "execution_count": 12,
   "metadata": {},
   "outputs": [
    {
     "data": {
      "text/plain": [
       "17781"
      ]
     },
     "execution_count": 12,
     "metadata": {},
     "output_type": "execute_result"
    }
   ],
   "source": [
    "len(set(all_links))"
   ]
  },
  {
   "cell_type": "code",
   "execution_count": 13,
   "metadata": {},
   "outputs": [
    {
     "data": {
      "text/plain": [
       "17781"
      ]
     },
     "execution_count": 13,
     "metadata": {},
     "output_type": "execute_result"
    }
   ],
   "source": [
    "all_links = list(set(all_links)); len(all_links)"
   ]
  },
  {
   "cell_type": "code",
   "execution_count": 14,
   "metadata": {},
   "outputs": [],
   "source": [
    "with open('all_oriya_wikipedia_links.pkl', 'wb') as f:\n",
    "    pickle.dump(all_links, f)"
   ]
  },
  {
   "cell_type": "code",
   "execution_count": 15,
   "metadata": {},
   "outputs": [
    {
     "data": {
      "text/plain": [
       "'https://or.wikipedia.org/wiki/%E0%AC%B0%E0%AD%87%E0%AC%AE%E0%AD%8B_%E0%AC%A1%E0%AC%BF%27%E0%AC%B8%E0%AD%81%E0%AC%9C%E0%AC%BE'"
      ]
     },
     "execution_count": 15,
     "metadata": {},
     "output_type": "execute_result"
    }
   ],
   "source": [
    "all_links[160]"
   ]
  },
  {
   "cell_type": "code",
   "execution_count": null,
   "metadata": {},
   "outputs": [],
   "source": []
  }
 ],
 "metadata": {
  "kernelspec": {
   "display_name": "Python 3",
   "language": "python",
   "name": "python3"
  },
  "language_info": {
   "codemirror_mode": {
    "name": "ipython",
    "version": 3
   },
   "file_extension": ".py",
   "mimetype": "text/x-python",
   "name": "python",
   "nbconvert_exporter": "python",
   "pygments_lexer": "ipython3",
   "version": "3.6.7"
  }
 },
 "nbformat": 4,
 "nbformat_minor": 2
}
